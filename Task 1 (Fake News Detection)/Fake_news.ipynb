{
  "nbformat": 4,
  "nbformat_minor": 0,
  "metadata": {
    "colab": {
      "provenance": [],
      "gpuType": "T4"
    },
    "kernelspec": {
      "name": "python3",
      "display_name": "Python 3"
    },
    "language_info": {
      "name": "python"
    },
    "accelerator": "GPU"
  },
  "cells": [
    {
      "cell_type": "code",
      "source": [
        "# Install necessary libraries silently\n",
        "!pip install nltk scikit-learn pandas --quiet\n",
        "\n",
        "# Imports\n",
        "import pandas as pd\n",
        "import re\n",
        "import nltk\n",
        "from nltk.corpus import stopwords\n",
        "from sklearn.model_selection import train_test_split\n",
        "from sklearn.feature_extraction.text import TfidfVectorizer\n",
        "from sklearn.linear_model import LogisticRegression\n",
        "from sklearn.metrics import classification_report\n",
        "\n",
        "# Download stopwords (only once)\n",
        "nltk.download('stopwords')\n",
        "stop_words = set(stopwords.words('english'))\n",
        "\n",
        "# Load and prepare dataset\n",
        "true_df = pd.read_csv(\"True.csv\")\n",
        "fake_df = pd.read_csv(\"Fake.csv\")\n",
        "\n",
        "true_df['label'] = 1\n",
        "fake_df['label'] = 0\n",
        "\n",
        "# Use either 'text' or 'content' column\n",
        "if 'text' in true_df.columns:\n",
        "    true_df = true_df[['text', 'label']]\n",
        "    fake_df = fake_df[['text', 'label']]\n",
        "elif 'content' in true_df.columns:\n",
        "    true_df.rename(columns={'content': 'text'}, inplace=True)\n",
        "    fake_df.rename(columns={'content': 'text'}, inplace=True)\n",
        "    true_df = true_df[['text', 'label']]\n",
        "    fake_df = fake_df[['text', 'label']]\n",
        "else:\n",
        "    raise ValueError(\"No text/content column found.\")\n",
        "\n",
        "df = pd.concat([true_df, fake_df], ignore_index=True).dropna().drop_duplicates()\n",
        "\n",
        "# Fast text cleaning (no stemming)\n",
        "def clean_text(text):\n",
        "    text = text.lower()\n",
        "    text = re.sub(r'[^\\w\\s]', '', text)\n",
        "    return ' '.join([word for word in text.split() if word not in stop_words])\n",
        "\n",
        "df['clean_text'] = df['text'].astype(str).apply(clean_text)\n",
        "\n",
        "# TF-IDF + Logistic Regression\n",
        "X = TfidfVectorizer(max_features=5000).fit_transform(df['clean_text']).toarray()\n",
        "y = df['label']\n",
        "\n",
        "X_train, X_test, y_train, y_test = train_test_split(X, y, test_size=0.2, random_state=42)\n",
        "\n",
        "model = LogisticRegression()\n",
        "model.fit(X_train, y_train)\n",
        "y_pred = model.predict(X_test)\n",
        "\n",
        "# Show final report\n",
        "print(classification_report(y_test, y_pred))\n"
      ],
      "metadata": {
        "colab": {
          "base_uri": "https://localhost:8080/"
        },
        "id": "4HfzuoLNOwG9",
        "outputId": "c818bbba-6c6f-4fc2-8370-932861707f01"
      },
      "execution_count": null,
      "outputs": [
        {
          "output_type": "stream",
          "name": "stderr",
          "text": [
            "[nltk_data] Downloading package stopwords to /root/nltk_data...\n",
            "[nltk_data]   Package stopwords is already up-to-date!\n"
          ]
        },
        {
          "output_type": "stream",
          "name": "stdout",
          "text": [
            "              precision    recall  f1-score   support\n",
            "\n",
            "           0       0.99      0.98      0.99      3486\n",
            "           1       0.99      0.99      0.99      4244\n",
            "\n",
            "    accuracy                           0.99      7730\n",
            "   macro avg       0.99      0.99      0.99      7730\n",
            "weighted avg       0.99      0.99      0.99      7730\n",
            "\n"
          ]
        }
      ]
    }
  ]
}